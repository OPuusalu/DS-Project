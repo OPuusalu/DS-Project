{
 "cells": [
  {
   "cell_type": "markdown",
   "id": "758e6e4c",
   "metadata": {},
   "source": [
    "# DS project"
   ]
  },
  {
   "cell_type": "markdown",
   "id": "a626731e",
   "metadata": {},
   "source": [
    "## Data preperation"
   ]
  },
  {
   "cell_type": "markdown",
   "id": "80525ff1",
   "metadata": {},
   "source": [
    "Imports"
   ]
  },
  {
   "cell_type": "code",
   "execution_count": 1,
   "id": "4f326409",
   "metadata": {},
   "outputs": [],
   "source": [
    "import pandas as pd\n",
    "from datetime import datetime, timedelta\n",
    "import matplotlib.pyplot as plt\n",
    "from sklearn.metrics import roc_curve, roc_auc_score, auc\n",
    "from sklearn.decomposition import PCA\n",
    "from sklearn.model_selection import train_test_split\n",
    "from sklearn.ensemble import RandomForestClassifier\n",
    "from sklearn.linear_model import LogisticRegression\n",
    "from sklearn.svm import SVC"
   ]
  },
  {
   "cell_type": "markdown",
   "id": "120a63f1",
   "metadata": {},
   "source": [
    "Reading the data from csv files"
   ]
  },
  {
   "cell_type": "code",
   "execution_count": 2,
   "id": "8a651b7d",
   "metadata": {},
   "outputs": [],
   "source": [
    "patients = pd.read_csv(\"Data/trainData/patients.csv\")\n",
    "conditions = pd.read_csv(\"Data/trainData/conditions.csv\")\n",
    "careplans = pd.read_csv(\"Data/trainData/careplans.csv\")\n",
    "medications = pd.read_csv(\"Data/trainData/medications.csv\")\n",
    "procedures = pd.read_csv(\"Data/trainData/procedures.csv\")\n",
    "\n",
    "merged = pd.merge(conditions, patients, left_on=\"Patient_id\", right_on=\"Id\")\n",
    "merged.drop([\"Patient_id\"], inplace=True, axis=1)"
   ]
  },
  {
   "cell_type": "markdown",
   "id": "efc202aa",
   "metadata": {},
   "source": [
    "Dummifying the procedures file dataframe"
   ]
  },
  {
   "cell_type": "code",
   "execution_count": 3,
   "id": "444bd1f8",
   "metadata": {},
   "outputs": [],
   "source": [
    "# Create binary columns indicating whether each patient received a specific procedure\n",
    "procedures_received = pd.get_dummies(procedures[\"Procedure\"], prefix=\"Received\").groupby(procedures[\"Patient_id\"]).max()\n",
    "\n",
    "# Reset the index for a clean output\n",
    "procedures_received.reset_index(inplace=True)"
   ]
  },
  {
   "cell_type": "markdown",
   "id": "0bcf242e",
   "metadata": {},
   "source": [
    "Filtering out the rows where diagnosis was \"Suspected lung cancer\""
   ]
  },
  {
   "cell_type": "code",
   "execution_count": 4,
   "id": "3def419f",
   "metadata": {},
   "outputs": [],
   "source": [
    "lung = merged[merged[\"Diagnosis\"] == \"Suspected lung cancer (situation)\"]"
   ]
  },
  {
   "cell_type": "markdown",
   "id": "77ee42ab",
   "metadata": {},
   "source": [
    "Finding the difference between first treatment and diagnosis of cancer"
   ]
  },
  {
   "cell_type": "code",
   "execution_count": 5,
   "id": "8cb55bb1",
   "metadata": {},
   "outputs": [
    {
     "name": "stderr",
     "output_type": "stream",
     "text": [
      "C:\\Users\\opuusalu\\AppData\\Local\\Temp\\ipykernel_7564\\1509393743.py:1: SettingWithCopyWarning: \n",
      "A value is trying to be set on a copy of a slice from a DataFrame.\n",
      "Try using .loc[row_indexer,col_indexer] = value instead\n",
      "\n",
      "See the caveats in the documentation: https://pandas.pydata.org/pandas-docs/stable/user_guide/indexing.html#returning-a-view-versus-a-copy\n",
      "  lung[\"Start\"] = pd.to_datetime(lung[\"Start\"], format=\"%d/%m/%Y\")\n"
     ]
    }
   ],
   "source": [
    "lung[\"Start\"] = pd.to_datetime(lung[\"Start\"], format=\"%d/%m/%Y\")\n",
    "careplans_date = pd.merge(lung[[\"Start\", \"Id\"]], careplans, left_on=\"Id\", right_on=\"Patient_id\")\n",
    "careplans_date = careplans_date[careplans_date[\"Reason\"].isin([\"Primary small cell malignant neoplasm of lung  TNM stage 1 (disorder)\", \"Non-small cell carcinoma of lung  TNM stage 1 (disorder)\"])]\n",
    "careplans_date[\"CarePlan_Start\"] = pd.to_datetime(careplans_date[\"CarePlan_Start\"], format=\"%d/%m/%Y\")\n",
    "careplans_date[\"date_difference\"] = careplans_date[\"CarePlan_Start\"] - careplans_date[\"Start\"]\n",
    "careplans_date[\"date_difference\"] = careplans_date[\"date_difference\"].dt.days"
   ]
  },
  {
   "cell_type": "markdown",
   "id": "28f2b73b",
   "metadata": {},
   "source": [
    "Finding the amount of lung cancer treatments recieved in the first year after lung cancer."
   ]
  },
  {
   "cell_type": "code",
   "execution_count": 6,
   "id": "c2439dbe",
   "metadata": {},
   "outputs": [],
   "source": [
    "# Merge medications with lung DataFrame to associate medications with diagnosis dates\n",
    "merged_data = pd.merge(medications, lung, left_on=\"Patient_id\", right_on=\"Id\")\n",
    "\n",
    "# Convert the \"Start\" and \"Diagnosis\" columns to datetime\n",
    "merged_data[\"Start\"] = pd.to_datetime(merged_data[\"Start_x\"], format=\"%Y-%m-%dT%H:%M:%SZ\")\n",
    "merged_data[\"Diagnosis\"] = pd.to_datetime(merged_data[\"Start_y\"], format=\"%d/%m/%Y\")\n",
    "\n",
    "# Filter the DataFrame based on the specified conditions\n",
    "filtered_medications = merged_data[\n",
    "    ((merged_data[\"Reason\"] == \"Non-small cell carcinoma of lung  TNM stage 1 (disorder)\") |\n",
    "    (merged_data[\"Reason\"] == \"Primary small cell malignant neoplasm of lung  TNM stage 1 (disorder)\")) &\n",
    "    (merged_data[\"Start\"] >= merged_data[\"Diagnosis\"]) &  # Only include medications after diagnosis\n",
    "    (merged_data[\"Start\"] <= merged_data[\"Diagnosis\"] + pd.DateOffset(days=365))  # Only include medications in the first year\n",
    "]\n",
    "\n",
    "# Count the unique medications for each patient\n",
    "treatment_counts = filtered_medications.groupby(\"Id\").size().reset_index(name=\"Treatment_Count\")"
   ]
  },
  {
   "cell_type": "markdown",
   "id": "1eaf045b",
   "metadata": {},
   "source": [
    "Filtering the rows where diagnosis was less than 5 years ago since we can not know if those people lived or died 5 years after cancer which we need for train dataset."
   ]
  },
  {
   "cell_type": "code",
   "execution_count": 7,
   "id": "35de3c53",
   "metadata": {},
   "outputs": [
    {
     "name": "stderr",
     "output_type": "stream",
     "text": [
      "C:\\Users\\opuusalu\\AppData\\Local\\Temp\\ipykernel_7564\\1920745262.py:2: SettingWithCopyWarning: \n",
      "A value is trying to be set on a copy of a slice from a DataFrame.\n",
      "Try using .loc[row_indexer,col_indexer] = value instead\n",
      "\n",
      "See the caveats in the documentation: https://pandas.pydata.org/pandas-docs/stable/user_guide/indexing.html#returning-a-view-versus-a-copy\n",
      "  lung[\"Start\"] = pd.to_datetime(lung[\"Start\"], format=\"%d/%m/%Y\")\n"
     ]
    }
   ],
   "source": [
    "# Convert \"Start\" column to datetime format\n",
    "lung[\"Start\"] = pd.to_datetime(lung[\"Start\"], format=\"%d/%m/%Y\")\n",
    "\n",
    "# Calculate the date 5 years ago\n",
    "five_years_ago = datetime.now() - timedelta(days=5*365)\n",
    "\n",
    "# Drop rows where \"Start\" date is less than 5 years ago\n",
    "lung = lung[lung[\"Start\"] < five_years_ago]"
   ]
  },
  {
   "cell_type": "markdown",
   "id": "32c76a74",
   "metadata": {},
   "source": [
    "If DeathDate is missing it is set to today's date for training purposes."
   ]
  },
  {
   "cell_type": "code",
   "execution_count": 8,
   "id": "4b685132",
   "metadata": {},
   "outputs": [],
   "source": [
    "# Convert \"Start\" and \"DeathDate\" columns to datetime format\n",
    "lung[\"Start\"] = pd.to_datetime(lung[\"Start\"], format=\"%d/%m/%Y\")\n",
    "lung[\"DeathDate\"] = pd.to_datetime(lung[\"DeathDate\"], format=\"%d/%m/%Y\", errors='coerce')\n",
    "\n",
    "# Calculate today's date\n",
    "today = datetime.now().replace(hour=0, minute=0, second=0, microsecond=0)\n",
    "\n",
    "# Set missing \"DeathDate\" values to today\n",
    "lung.loc[lung[\"DeathDate\"].isna(), \"DeathDate\"] = today"
   ]
  },
  {
   "cell_type": "markdown",
   "id": "b2570437",
   "metadata": {},
   "source": [
    "Creating row 'y' in dataset which contains 1 if patient lived 5 years after diagnosis and 0 if not."
   ]
  },
  {
   "cell_type": "code",
   "execution_count": 9,
   "id": "5bc5021c",
   "metadata": {},
   "outputs": [],
   "source": [
    "# Convert \"Start\" and \"DeathDate\" columns to datetime format\n",
    "lung[\"Start\"] = pd.to_datetime(lung[\"Start\"], format=\"%d/%m/%Y\")\n",
    "lung[\"DeathDate\"] = pd.to_datetime(lung[\"DeathDate\"], format=\"%d/%m/%Y\", errors='coerce')\n",
    "\n",
    "# Calculate the date difference\n",
    "lung[\"date_difference\"] = lung[\"DeathDate\"] - lung[\"Start\"]\n",
    "\n",
    "# Set missing \"DeathDate\" values to today\n",
    "today = datetime.now().replace(hour=0, minute=0, second=0, microsecond=0)\n",
    "lung.loc[merged[\"DeathDate\"].isna(), \"DeathDate\"] = today\n",
    "\n",
    "# Create a new column \"y\" based on the condition\n",
    "lung[\"y\"] = (lung[\"date_difference\"] > timedelta(days=1825)).astype(int)"
   ]
  },
  {
   "cell_type": "markdown",
   "id": "24ea9be8",
   "metadata": {},
   "source": [
    "Dropping irrelevant columns"
   ]
  },
  {
   "cell_type": "code",
   "execution_count": 10,
   "id": "926da5cd",
   "metadata": {},
   "outputs": [],
   "source": [
    "columns_to_drop = [\"date_difference\", \"BirthDate\", \"DeathDate\"]\n",
    "\n",
    "# Drop the specified columns\n",
    "lung.drop(columns=columns_to_drop, inplace=True, errors='ignore')"
   ]
  },
  {
   "cell_type": "markdown",
   "id": "f3924ae2",
   "metadata": {},
   "source": [
    "Aggregating different values in diagnosis column into table that contains diagnosis as column head and then True and False values for each patient"
   ]
  },
  {
   "cell_type": "code",
   "execution_count": 11,
   "id": "bea384a5",
   "metadata": {},
   "outputs": [],
   "source": [
    "encoded = pd.get_dummies(conditions, columns=[\"Diagnosis\"])\n",
    "columns = encoded.columns[4:]\n",
    "aggregated = encoded.groupby(\"Patient_id\").agg({**{col: 'max' for col in columns}})"
   ]
  },
  {
   "cell_type": "markdown",
   "id": "5d6be5b8",
   "metadata": {},
   "source": [
    "Merging all data together"
   ]
  },
  {
   "cell_type": "code",
   "execution_count": 12,
   "id": "dfea8c14",
   "metadata": {},
   "outputs": [],
   "source": [
    "merged = pd.merge(aggregated, lung[[\"Id\", \"y\", \"Gender\"]], left_on=\"Patient_id\", right_on=\"Id\")\n",
    "merged[\"Gender\"] = merged[\"Gender\"] == \"F\"\n",
    "merged = pd.merge(merged, treatment_counts[[\"Id\",\"Treatment_Count\"]], left_on=\"Id\", right_on=\"Id\")\n",
    "merged = pd.merge(merged, procedures_received, left_on=\"Id\", right_on=\"Patient_id\")\n",
    "merged = pd.merge(merged, careplans_date[[\"Id\", \"date_difference\"]], on=\"Id\")"
   ]
  },
  {
   "cell_type": "markdown",
   "id": "85f241b4",
   "metadata": {},
   "source": [
    "This part conludes the data preperation. We're left with DataFrame merged in the end."
   ]
  },
  {
   "cell_type": "markdown",
   "id": "07ee16dc",
   "metadata": {},
   "source": [
    "## Training the models on data"
   ]
  },
  {
   "cell_type": "markdown",
   "id": "f21cd8ac",
   "metadata": {},
   "source": [
    "Defining the X and y dataparts. Also splitting the data into train and test parts."
   ]
  },
  {
   "cell_type": "code",
   "execution_count": 13,
   "id": "28ea31d7",
   "metadata": {},
   "outputs": [],
   "source": [
    "X = merged.drop(columns=[\"y\", \"Id\", \"Patient_id\"])\n",
    "y = merged[\"y\"]\n",
    "# Split the data into training and testing sets\n",
    "X_train, X_test, y_train, y_test = train_test_split(X, y, test_size=0.2, random_state=42)"
   ]
  },
  {
   "cell_type": "markdown",
   "id": "830f3ccb",
   "metadata": {},
   "source": [
    "**Random Forest Classifier with reduced dimensionality**"
   ]
  },
  {
   "cell_type": "code",
   "execution_count": 14,
   "id": "4bc00dbf",
   "metadata": {},
   "outputs": [
    {
     "data": {
      "image/png": "[encoded data removed]",
      "text/plain": [
       "<Figure size 800x600 with 1 Axes>"
      ]
     },
     "metadata": {},
     "output_type": "display_data"
    },
    {
     "name": "stdout",
     "output_type": "stream",
     "text": [
      "AUC: 0.43\n"
     ]
    }
   ],
   "source": [
    "# Use PCA to reduce dimensionality to 30 components\n",
    "pca = PCA(n_components=30)\n",
    "X_train_pca = pca.fit_transform(X_train)\n",
    "X_test_pca = pca.transform(X_test)\n",
    "\n",
    "# Create a model and train it on the reduced data\n",
    "model = RandomForestClassifier(n_estimators=100, max_depth=10, random_state=42)\n",
    "model.fit(X_train_pca, y_train)\n",
    "\n",
    "# Make predictions on the test set\n",
    "y_pred_proba = model.predict_proba(X_test_pca)[:, 1]\n",
    "\n",
    "# Calculate ROC curve\n",
    "fpr, tpr, thresholds = roc_curve(y_test, y_pred_proba)\n",
    "\n",
    "# Calculate AUC\n",
    "roc_auc = auc(fpr, tpr)\n",
    "\n",
    "# Plot the ROC curve\n",
    "plt.figure(figsize=(8, 6))\n",
    "plt.plot(fpr, tpr, color='darkorange', lw=2, label=f'AUC = {roc_auc:.2f}')\n",
    "plt.plot([0, 1], [0, 1], color='navy', lw=2, linestyle='--')\n",
    "plt.xlabel('False Positive Rate')\n",
    "plt.ylabel('True Positive Rate')\n",
    "plt.title('ROC Curve')\n",
    "plt.legend(loc='lower right')\n",
    "plt.show()\n",
    "\n",
    "print(f'AUC: {roc_auc:.2f}')"
   ]
  },
  {
   "cell_type": "markdown",
   "id": "f3753a0f",
   "metadata": {},
   "source": [
    "**Logistic Regression**"
   ]
  },
  {
   "cell_type": "code",
   "execution_count": 15,
   "id": "acc7ca0b",
   "metadata": {},
   "outputs": [
    {
     "name": "stderr",
     "output_type": "stream",
     "text": [
      "C:\\Users\\opuusalu\\AppData\\Local\\anaconda3\\Lib\\site-packages\\sklearn\\linear_model\\_sag.py:350: ConvergenceWarning: The max_iter was reached which means the coef_ did not converge\n",
      "  warnings.warn(\n"
     ]
    },
    {
     "data": {
      "image/png": "[encoded data removed]",
      "text/plain": [
       "<Figure size 800x600 with 1 Axes>"
      ]
     },
     "metadata": {},
     "output_type": "display_data"
    },
    {
     "name": "stdout",
     "output_type": "stream",
     "text": [
      "AUC: 0.47\n"
     ]
    }
   ],
   "source": [
    "# Train a model\n",
    "model = LogisticRegression(max_iter=1000, solver='sag')\n",
    "model.fit(X_train, y_train)\n",
    "\n",
    "# Make predictions on the test set\n",
    "y_pred_proba = model.predict_proba(X_test)[:, 1]  # Probability of class 1\n",
    "\n",
    "# Calculate ROC curve\n",
    "fpr, tpr, thresholds = roc_curve(y_test, y_pred_proba)\n",
    "\n",
    "# Calculate AUC\n",
    "roc_auc = auc(fpr, tpr)\n",
    "\n",
    "# Plot the ROC curve\n",
    "plt.figure(figsize=(8, 6))\n",
    "plt.plot(fpr, tpr, color='darkorange', lw=2, label=f'AUC = {roc_auc:.2f}')\n",
    "plt.plot([0, 1], [0, 1], color='navy', lw=2, linestyle='--')\n",
    "plt.xlabel('False Positive Rate')\n",
    "plt.ylabel('True Positive Rate')\n",
    "plt.title('ROC Curve')\n",
    "plt.legend(loc='lower right')\n",
    "plt.show()\n",
    "\n",
    "print(f'AUC: {roc_auc:.2f}')"
   ]
  },
  {
   "cell_type": "code",
   "execution_count": 16,
   "id": "643120e4",
   "metadata": {},
   "outputs": [
    {
     "data": {
      "image/png": "[encoded data removed]",
      "text/plain": [
       "<Figure size 800x600 with 1 Axes>"
      ]
     },
     "metadata": {},
     "output_type": "display_data"
    },
    {
     "name": "stdout",
     "output_type": "stream",
     "text": [
      "AUC: 0.48\n"
     ]
    }
   ],
   "source": [
    "# Create a Support Vector Machine (SVM) classifier and train it on the data\n",
    "model = SVC(probability=True, random_state=42)\n",
    "model.fit(X_train, y_train)\n",
    "\n",
    "# Make predictions on the test set\n",
    "y_pred_proba = model.predict_proba(X_test)[:, 1]\n",
    "\n",
    "# Calculate ROC curve\n",
    "fpr, tpr, thresholds = roc_curve(y_test, y_pred_proba)\n",
    "\n",
    "# Calculate AUC\n",
    "roc_auc = auc(fpr, tpr)\n",
    "\n",
    "# Plot the ROC curve\n",
    "plt.figure(figsize=(8, 6))\n",
    "plt.plot(fpr, tpr, color='darkorange', lw=2, label=f'AUC = {roc_auc:.2f}')\n",
    "plt.plot([0, 1], [0, 1], color='navy', lw=2, linestyle='--')\n",
    "plt.xlabel('False Positive Rate')\n",
    "plt.ylabel('True Positive Rate')\n",
    "plt.title('ROC Curve')\n",
    "plt.legend(loc='lower right')\n",
    "plt.show()\n",
    "\n",
    "print(f'AUC: {roc_auc:.2f}')"
   ]
  },
  {
   "cell_type": "code",
   "execution_count": 17,
   "id": "54295382",
   "metadata": {},
   "outputs": [
    {
     "name": "stdout",
     "output_type": "stream",
     "text": [
      "Table containing the 10 most impactful features in RandomForestClassifier:\n"
     ]
    },
    {
     "data": {
      "text/html": [
       "<div>\n",
       "<style scoped>\n",
       "    .dataframe tbody tr th:only-of-type {\n",
       "        vertical-align: middle;\n",
       "    }\n",
       "\n",
       "    .dataframe tbody tr th {\n",
       "        vertical-align: top;\n",
       "    }\n",
       "\n",
       "    .dataframe thead th {\n",
       "        text-align: right;\n",
       "    }\n",
       "</style>\n",
       "<table border=\"1\" class=\"dataframe\">\n",
       "  <thead>\n",
       "    <tr style=\"text-align: right;\">\n",
       "      <th></th>\n",
       "      <th>date_difference</th>\n",
       "      <th>Treatment_Count</th>\n",
       "      <th>Received_Injection of tetanus antitoxin</th>\n",
       "      <th>Received_Depression screening using Patient Health Questionnaire Nine Item score (procedure)</th>\n",
       "      <th>Received_Partial resection of colon</th>\n",
       "      <th>Received_Fine needle aspiration biopsy of lung (procedure)</th>\n",
       "      <th>Received_Human epidermal growth factor receptor 2 gene detection by fluorescence in situ hybridization (procedure)</th>\n",
       "      <th>Diagnosis_Received higher education (finding)</th>\n",
       "      <th>Received_Ultrasonography of bilateral breasts (procedure)</th>\n",
       "      <th>Diagnosis_Laceration - injury (disorder)</th>\n",
       "    </tr>\n",
       "  </thead>\n",
       "  <tbody>\n",
       "    <tr>\n",
       "      <th>0</th>\n",
       "      <td>16</td>\n",
       "      <td>122</td>\n",
       "      <td>False</td>\n",
       "      <td>False</td>\n",
       "      <td>False</td>\n",
       "      <td>False</td>\n",
       "      <td>False</td>\n",
       "      <td>True</td>\n",
       "      <td>False</td>\n",
       "      <td>False</td>\n",
       "    </tr>\n",
       "    <tr>\n",
       "      <th>1</th>\n",
       "      <td>14</td>\n",
       "      <td>124</td>\n",
       "      <td>False</td>\n",
       "      <td>False</td>\n",
       "      <td>False</td>\n",
       "      <td>False</td>\n",
       "      <td>False</td>\n",
       "      <td>True</td>\n",
       "      <td>False</td>\n",
       "      <td>False</td>\n",
       "    </tr>\n",
       "    <tr>\n",
       "      <th>2</th>\n",
       "      <td>11</td>\n",
       "      <td>122</td>\n",
       "      <td>False</td>\n",
       "      <td>True</td>\n",
       "      <td>False</td>\n",
       "      <td>False</td>\n",
       "      <td>False</td>\n",
       "      <td>True</td>\n",
       "      <td>False</td>\n",
       "      <td>False</td>\n",
       "    </tr>\n",
       "    <tr>\n",
       "      <th>3</th>\n",
       "      <td>29</td>\n",
       "      <td>96</td>\n",
       "      <td>False</td>\n",
       "      <td>True</td>\n",
       "      <td>False</td>\n",
       "      <td>False</td>\n",
       "      <td>False</td>\n",
       "      <td>False</td>\n",
       "      <td>False</td>\n",
       "      <td>False</td>\n",
       "    </tr>\n",
       "    <tr>\n",
       "      <th>4</th>\n",
       "      <td>11</td>\n",
       "      <td>136</td>\n",
       "      <td>False</td>\n",
       "      <td>False</td>\n",
       "      <td>False</td>\n",
       "      <td>False</td>\n",
       "      <td>False</td>\n",
       "      <td>True</td>\n",
       "      <td>False</td>\n",
       "      <td>False</td>\n",
       "    </tr>\n",
       "    <tr>\n",
       "      <th>...</th>\n",
       "      <td>...</td>\n",
       "      <td>...</td>\n",
       "      <td>...</td>\n",
       "      <td>...</td>\n",
       "      <td>...</td>\n",
       "      <td>...</td>\n",
       "      <td>...</td>\n",
       "      <td>...</td>\n",
       "      <td>...</td>\n",
       "      <td>...</td>\n",
       "    </tr>\n",
       "    <tr>\n",
       "      <th>584</th>\n",
       "      <td>68</td>\n",
       "      <td>92</td>\n",
       "      <td>False</td>\n",
       "      <td>False</td>\n",
       "      <td>False</td>\n",
       "      <td>False</td>\n",
       "      <td>False</td>\n",
       "      <td>False</td>\n",
       "      <td>False</td>\n",
       "      <td>False</td>\n",
       "    </tr>\n",
       "    <tr>\n",
       "      <th>585</th>\n",
       "      <td>8</td>\n",
       "      <td>126</td>\n",
       "      <td>False</td>\n",
       "      <td>True</td>\n",
       "      <td>False</td>\n",
       "      <td>False</td>\n",
       "      <td>False</td>\n",
       "      <td>False</td>\n",
       "      <td>False</td>\n",
       "      <td>False</td>\n",
       "    </tr>\n",
       "    <tr>\n",
       "      <th>586</th>\n",
       "      <td>45</td>\n",
       "      <td>102</td>\n",
       "      <td>False</td>\n",
       "      <td>True</td>\n",
       "      <td>False</td>\n",
       "      <td>False</td>\n",
       "      <td>False</td>\n",
       "      <td>True</td>\n",
       "      <td>False</td>\n",
       "      <td>False</td>\n",
       "    </tr>\n",
       "    <tr>\n",
       "      <th>587</th>\n",
       "      <td>28</td>\n",
       "      <td>94</td>\n",
       "      <td>False</td>\n",
       "      <td>True</td>\n",
       "      <td>True</td>\n",
       "      <td>False</td>\n",
       "      <td>False</td>\n",
       "      <td>False</td>\n",
       "      <td>False</td>\n",
       "      <td>False</td>\n",
       "    </tr>\n",
       "    <tr>\n",
       "      <th>588</th>\n",
       "      <td>18</td>\n",
       "      <td>100</td>\n",
       "      <td>False</td>\n",
       "      <td>True</td>\n",
       "      <td>False</td>\n",
       "      <td>False</td>\n",
       "      <td>False</td>\n",
       "      <td>False</td>\n",
       "      <td>False</td>\n",
       "      <td>False</td>\n",
       "    </tr>\n",
       "  </tbody>\n",
       "</table>\n",
       "<p>589 rows × 10 columns</p>\n",
       "</div>"
      ],
      "text/plain": [
       "     date_difference  Treatment_Count  \\\n",
       "0                 16              122   \n",
       "1                 14              124   \n",
       "2                 11              122   \n",
       "3                 29               96   \n",
       "4                 11              136   \n",
       "..               ...              ...   \n",
       "584               68               92   \n",
       "585                8              126   \n",
       "586               45              102   \n",
       "587               28               94   \n",
       "588               18              100   \n",
       "\n",
       "     Received_Injection of tetanus antitoxin  \\\n",
       "0                                      False   \n",
       "1                                      False   \n",
       "2                                      False   \n",
       "3                                      False   \n",
       "4                                      False   \n",
       "..                                       ...   \n",
       "584                                    False   \n",
       "585                                    False   \n",
       "586                                    False   \n",
       "587                                    False   \n",
       "588                                    False   \n",
       "\n",
       "     Received_Depression screening using Patient Health Questionnaire Nine Item score (procedure)  \\\n",
       "0                                                False                                              \n",
       "1                                                False                                              \n",
       "2                                                 True                                              \n",
       "3                                                 True                                              \n",
       "4                                                False                                              \n",
       "..                                                 ...                                              \n",
       "584                                              False                                              \n",
       "585                                               True                                              \n",
       "586                                               True                                              \n",
       "587                                               True                                              \n",
       "588                                               True                                              \n",
       "\n",
       "     Received_Partial resection of colon  \\\n",
       "0                                  False   \n",
       "1                                  False   \n",
       "2                                  False   \n",
       "3                                  False   \n",
       "4                                  False   \n",
       "..                                   ...   \n",
       "584                                False   \n",
       "585                                False   \n",
       "586                                False   \n",
       "587                                 True   \n",
       "588                                False   \n",
       "\n",
       "     Received_Fine needle aspiration biopsy of lung (procedure)  \\\n",
       "0                                                False            \n",
       "1                                                False            \n",
       "2                                                False            \n",
       "3                                                False            \n",
       "4                                                False            \n",
       "..                                                 ...            \n",
       "584                                              False            \n",
       "585                                              False            \n",
       "586                                              False            \n",
       "587                                              False            \n",
       "588                                              False            \n",
       "\n",
       "     Received_Human epidermal growth factor receptor 2 gene detection by fluorescence in situ hybridization (procedure)  \\\n",
       "0                                                False                                                                    \n",
       "1                                                False                                                                    \n",
       "2                                                False                                                                    \n",
       "3                                                False                                                                    \n",
       "4                                                False                                                                    \n",
       "..                                                 ...                                                                    \n",
       "584                                              False                                                                    \n",
       "585                                              False                                                                    \n",
       "586                                              False                                                                    \n",
       "587                                              False                                                                    \n",
       "588                                              False                                                                    \n",
       "\n",
       "     Diagnosis_Received higher education (finding)  \\\n",
       "0                                             True   \n",
       "1                                             True   \n",
       "2                                             True   \n",
       "3                                            False   \n",
       "4                                             True   \n",
       "..                                             ...   \n",
       "584                                          False   \n",
       "585                                          False   \n",
       "586                                           True   \n",
       "587                                          False   \n",
       "588                                          False   \n",
       "\n",
       "     Received_Ultrasonography of bilateral breasts (procedure)  \\\n",
       "0                                                False           \n",
       "1                                                False           \n",
       "2                                                False           \n",
       "3                                                False           \n",
       "4                                                False           \n",
       "..                                                 ...           \n",
       "584                                              False           \n",
       "585                                              False           \n",
       "586                                              False           \n",
       "587                                              False           \n",
       "588                                              False           \n",
       "\n",
       "     Diagnosis_Laceration - injury (disorder)  \n",
       "0                                       False  \n",
       "1                                       False  \n",
       "2                                       False  \n",
       "3                                       False  \n",
       "4                                       False  \n",
       "..                                        ...  \n",
       "584                                     False  \n",
       "585                                     False  \n",
       "586                                     False  \n",
       "587                                     False  \n",
       "588                                     False  \n",
       "\n",
       "[589 rows x 10 columns]"
      ]
     },
     "execution_count": 17,
     "metadata": {},
     "output_type": "execute_result"
    }
   ],
   "source": [
    "# Create a model and train it on the full data\n",
    "model = RandomForestClassifier(n_estimators=100, max_depth=10, random_state=42)\n",
    "model.fit(X_train, y_train)\n",
    "\n",
    "# Get feature importances\n",
    "feature_importances = model.feature_importances_\n",
    "\n",
    "# Create a DataFrame to store feature names and their importances\n",
    "feature_importance_df = pd.DataFrame({'Feature': X.columns, 'Importance': feature_importances})\n",
    "\n",
    "# Sort the DataFrame by importance in descending order\n",
    "feature_importance_df = feature_importance_df.sort_values(by='Importance', ascending=False)\n",
    "\n",
    "# Select the top 10 features\n",
    "top_features = feature_importance_df.head(10)['Feature'].tolist()\n",
    "\n",
    "# Keep only the top features in the dataset\n",
    "X_top_features = X[top_features]\n",
    "\n",
    "# Now X_top_features contains only the top 10 features\n",
    "print(\"Table containing the 10 most impactful features in RandomForestClassifier:\")\n",
    "X_top_features"
   ]
  },
  {
   "cell_type": "markdown",
   "id": "d62d6192",
   "metadata": {},
   "source": [
    "This is the end of the notebook."
   ]
  }
 ],
 "metadata": {
  "kernelspec": {
   "display_name": "Python 3 (ipykernel)",
   "language": "python",
   "name": "python3"
  },
  "language_info": {
   "codemirror_mode": {
    "name": "ipython",
    "version": 3
   },
   "file_extension": ".py",
   "mimetype": "text/x-python",
   "name": "python",
   "nbconvert_exporter": "python",
   "pygments_lexer": "ipython3",
   "version": "3.11.5"
  }
 },
 "nbformat": 4,
 "nbformat_minor": 5
}
