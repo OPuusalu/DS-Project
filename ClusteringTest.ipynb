{
 "cells": [
  {
   "cell_type": "code",
   "execution_count": 1,
   "id": "9aa3abdb",
   "metadata": {},
   "outputs": [],
   "source": [
    "import pandas as pd\n",
    "patients = pd.read_csv(\"Data/testData/patients.csv\")\n",
    "conditions = pd.read_csv(\"Data/testData/conditions.csv\")\n",
    "\n",
    "\n",
    "merged = pd.merge(conditions, patients, left_on=\"Patient_id\", right_on=\"Id\")\n",
    "merged.drop([\"Patient_id\"], inplace=True, axis=1)"
   ]
  },
  {
   "cell_type": "code",
   "execution_count": 5,
   "id": "2ac8ace2",
   "metadata": {},
   "outputs": [],
   "source": [
    "your_data = merged.copy()"
   ]
  },
  {
   "cell_type": "code",
   "execution_count": 16,
   "id": "68c6499f",
   "metadata": {},
   "outputs": [],
   "source": [
    "import pandas as pd\n",
    "from sklearn.decomposition import TruncatedSVD\n",
    "from sklearn.preprocessing import StandardScaler, OneHotEncoder\n",
    "from sklearn.compose import ColumnTransformer\n",
    "from sklearn.pipeline import Pipeline\n",
    "\n",
    "# Assuming your data is in a DataFrame named 'your_data'\n",
    "\n",
    "# Separate numeric and non-numeric columns\n",
    "numeric_cols = your_data.select_dtypes(include=['number']).columns\n",
    "string_cols = your_data.select_dtypes(include=['object']).columns\n",
    "\n",
    "# Create transformers for numeric and string columns\n",
    "numeric_transformer = Pipeline(steps=[\n",
    "    ('scaler', StandardScaler())\n",
    "])\n",
    "\n",
    "string_transformer = Pipeline(steps=[\n",
    "    ('onehot', OneHotEncoder(handle_unknown='ignore'))\n",
    "])\n",
    "\n",
    "# Use ColumnTransformer to apply transformers to the respective columns\n",
    "preprocessor = ColumnTransformer(\n",
    "    transformers=[\n",
    "        ('num', numeric_transformer, numeric_cols),\n",
    "        ('str', string_transformer, string_cols)\n",
    "    ])\n",
    "\n",
    "# Apply TruncatedSVD\n",
    "num_dimensions = 10  # Adjust as needed\n",
    "svd = TruncatedSVD(n_components=num_dimensions)\n",
    "\n",
    "# Combine the transformations\n",
    "svd_pipeline = Pipeline(steps=[\n",
    "    ('preprocessor', preprocessor),\n",
    "    ('svd', svd)\n",
    "])\n",
    "\n",
    "# Fit and transform the data\n",
    "X_reduced = svd_pipeline.fit_transform(your_data)\n",
    "\n",
    "# Now, X_reduced contains the reduced-dimensional representation of your features\n"
   ]
  },
  {
   "cell_type": "code",
   "execution_count": 18,
   "id": "c6ed0a0e",
   "metadata": {},
   "outputs": [
    {
     "data": {
      "text/plain": [
       "(9952, 10)"
      ]
     },
     "execution_count": 18,
     "metadata": {},
     "output_type": "execute_result"
    }
   ],
   "source": [
    "X_reduced.shape"
   ]
  },
  {
   "cell_type": "code",
   "execution_count": null,
   "id": "c6a7bd48",
   "metadata": {},
   "outputs": [],
   "source": []
  }
 ],
 "metadata": {
  "kernelspec": {
   "display_name": "Python 3 (ipykernel)",
   "language": "python",
   "name": "python3"
  },
  "language_info": {
   "codemirror_mode": {
    "name": "ipython",
    "version": 3
   },
   "file_extension": ".py",
   "mimetype": "text/x-python",
   "name": "python",
   "nbconvert_exporter": "python",
   "pygments_lexer": "ipython3",
   "version": "3.11.5"
  }
 },
 "nbformat": 4,
 "nbformat_minor": 5
}
